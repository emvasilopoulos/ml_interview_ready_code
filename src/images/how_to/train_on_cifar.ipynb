{
 "cells": [
  {
   "cell_type": "code",
   "execution_count": 3,
   "metadata": {},
   "outputs": [],
   "source": [
    "import torch\n",
    "import torchvision\n",
    "import torchvision.transforms as transforms"
   ]
  },
  {
   "cell_type": "code",
   "execution_count": 5,
   "metadata": {},
   "outputs": [],
   "source": [
    "\"\"\"\n",
    "    A convolutional classifier will need:\n",
    "    Input\n",
    "        torch.Size([3, 32, 32])\n",
    "        torch.float32\n",
    "    Output\n",
    "        tensor(5) # class no.6\n",
    "        torch.int64\n",
    "    \"\"\"\n",
    "transform = transforms.Compose([transforms.ToTensor()])\n",
    "trainset = torchvision.datasets.CIFAR10(\n",
    "    root=\"../data\", transform=transform, train=True\n",
    ")\n",
    "trainloader = torch.utils.data.DataLoader(trainset, batch_size=8, shuffle=True)\n",
    "valset = torchvision.datasets.CIFAR10(\n",
    "    root=\"../data\", train=False, transform=transform\n",
    ")\n",
    "valloader = torch.utils.data.DataLoader(valset, batch_size=8, shuffle=True)"
   ]
  },
  {
   "cell_type": "code",
   "execution_count": 66,
   "metadata": {},
   "outputs": [],
   "source": [
    "## NETWORK\n",
    "import torch.nn as nn\n",
    "import torch.nn.functional as F\n",
    "\n",
    "class MyConv(nn.Module):\n",
    "\n",
    "    def __init__(self,in_channels=3, out_channels=16, kernel_size=2, padding=2) -> None:\n",
    "        super().__init__()\n",
    "\n",
    "        self.net = nn.Sequential(\n",
    "            nn.Conv2d(in_channels=in_channels, out_channels=out_channels, kernel_size=kernel_size, padding=padding),\n",
    "            nn.ReLU()\n",
    "        )\n",
    "    \n",
    "    def forward(self, x: torch.Tensor):\n",
    "        return self.net(x)\n",
    "\n",
    "class VanillaNet(nn.Module):\n",
    "    def __init__(self, n_classes) -> None:\n",
    "        super().__init__()\n",
    "        #\n",
    "        self.conv1 = MyConv(in_channels=3, out_channels=16, kernel_size=2, padding=0)\n",
    "        self.pool = nn.MaxPool2d(kernel_size=2, stride=2)\n",
    "        self.conv2 = MyConv(16, 32, 2, padding=0)\n",
    "        self.fc1 = nn.Linear(in_features=(32 * 7 * 7), out_features=256) # Calculated manually \n",
    "        self.fc2 = nn.Linear(in_features=256, out_features=32) \n",
    "        self.fc3 = nn.Linear(in_features=32, out_features=n_classes) \n",
    "        \n",
    "    def forward(self, x: torch.Tensor):\n",
    "        x = self.conv1(x)\n",
    "        print(x.shape)\n",
    "        x = self.pool(x)\n",
    "        x = self.pool(self.conv2(x))\n",
    "        x = torch.flatten(x, start_dim=1)\n",
    "        x = F.relu(self.fc1(x))\n",
    "        x = F.relu(self.fc2(x))\n",
    "        x = F.softmax(self.fc3(x), dim=1)\n",
    "        return x\n",
    "\n",
    "classes = ('plane', 'car', 'bird', 'cat',\n",
    "           'deer', 'dog', 'frog', 'horse', 'ship', 'truck')\n",
    "model = VanillaNet(n_classes=len(classes))"
   ]
  },
  {
   "cell_type": "code",
   "execution_count": 67,
   "metadata": {},
   "outputs": [
    {
     "name": "stdout",
     "output_type": "stream",
     "text": [
      "torch.Size([8, 16, 31, 31])\n",
      "deer\n"
     ]
    }
   ],
   "source": [
    "def get_class_idx(out: torch.tensor):\n",
    "    return torch.argmax(out).item()\n",
    "for x, y in trainloader:\n",
    "    out = model(x)\n",
    "    print(classes[get_class_idx(out[0])])\n",
    "    break"
   ]
  }
 ],
 "metadata": {
  "kernelspec": {
   "display_name": "Python 3",
   "language": "python",
   "name": "python3"
  },
  "language_info": {
   "codemirror_mode": {
    "name": "ipython",
    "version": 3
   },
   "file_extension": ".py",
   "mimetype": "text/x-python",
   "name": "python",
   "nbconvert_exporter": "python",
   "pygments_lexer": "ipython3",
   "version": "3.10.9"
  },
  "orig_nbformat": 4
 },
 "nbformat": 4,
 "nbformat_minor": 2
}
