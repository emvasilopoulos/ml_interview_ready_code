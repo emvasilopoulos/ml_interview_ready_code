{
 "cells": [
  {
   "cell_type": "code",
   "execution_count": 1,
   "metadata": {},
   "outputs": [],
   "source": [
    "import yaml\n",
    "import pathlib\n",
    "import time\n",
    "\n",
    "import torch\n",
    "import torch.nn\n",
    "\n",
    "import mnn.vision.models.vision_transformer.encoder.config as mnn_encoder_config\n",
    "import mnn.vision.config as mnn_config\n",
    "from mnn.vision.models.vision_transformer.e2e import (\n",
    "    MyVisionTransformer\n",
    ")\n",
    "from mnn.vision.models.vision_transformer.tasks.object_detection import ObjectDetectionOrdinalHead "
   ]
  },
  {
   "cell_type": "markdown",
   "metadata": {},
   "source": [
    "## UTILITIES"
   ]
  },
  {
   "cell_type": "code",
   "execution_count": 2,
   "metadata": {},
   "outputs": [],
   "source": [
    "def inference_test(image: torch.Tensor, model: torch.nn.Module):\n",
    "    t0 = time.time()\n",
    "    output = model(image)\n",
    "    t1 = time.time()\n",
    "    print(\"Time taken:\", t1 - t0, \"seconds\")\n",
    "    print(\"Model's output shape:\", output.shape)\n",
    "    traced_model = torch.jit.trace(model.forward, image, check_trace=True, strict=True)\n",
    "    return traced_model\n",
    "\n",
    "def count_parameters(model):\n",
    "    return sum(p.numel() for p in model.parameters() if p.requires_grad)\n",
    "\n",
    "def read_yaml_file(file_path: pathlib.Path) -> dict:\n",
    "    with file_path.open(mode=\"r\") as f:\n",
    "        # Python 3.11 need Loader\n",
    "        return yaml.load(f, Loader=yaml.FullLoader)"
   ]
  },
  {
   "cell_type": "markdown",
   "metadata": {},
   "source": [
    "## CHOOSE EXPERIMENT"
   ]
  },
  {
   "cell_type": "code",
   "execution_count": 3,
   "metadata": {},
   "outputs": [],
   "source": [
    "experiment_number = int(input(\"Choose experiment Number and press Enter:\"))\n",
    "experiment_name = f\"experiment{experiment_number}\""
   ]
  },
  {
   "cell_type": "markdown",
   "metadata": {},
   "source": [
    "## INITIALIZATION"
   ]
  },
  {
   "cell_type": "code",
   "execution_count": 6,
   "metadata": {},
   "outputs": [],
   "source": [
    "\"\"\" CONFIGURATION \"\"\"\n",
    "n = 1\n",
    "\n",
    "model_config_as_dict = read_yaml_file(pathlib.Path(experiment_name) / \"model.yaml\")\n",
    "model_config = mnn_encoder_config.MyVisionTransformerConfiguration.from_dict(\n",
    "    model_config_as_dict[\"MyVisionTransformer\"]\n",
    ")\n",
    "encoder_config = model_config.encoder_config\n",
    "\n",
    "hyperparameters_config_as_dict = read_yaml_file(pathlib.Path(experiment_name) / \"hyperparameters.yaml\")\n",
    "hyperparameters_config = mnn_config.HyperparametersConfiguration.from_dict(hyperparameters_config_as_dict)\n",
    "\"\"\" MODEL \"\"\"\n",
    "\n",
    "image_size = hyperparameters_config.image_size\n",
    "# image to pytorch tensor\n",
    "sequence_length = image_size.height\n",
    "embedding_size = image_size.width\n",
    "hidden_dim = embedding_size\n",
    "image_RGB = torch.rand(n, 3, sequence_length, image_size.width) * 255"
   ]
  },
  {
   "cell_type": "code",
   "execution_count": null,
   "metadata": {},
   "outputs": [],
   "source": [
    "d_type = torch.float16\n",
    "my_transformer = MyVisionTransformer(encoder_config, image_size, n_high_level_layers=1, is_input_normalized=True, dtype=d_type)\n",
    "head_config = mnn_encoder_config.VisionTransformerEncoderConfiguration.from_dict(\n",
    "    model_config_as_dict[\"MyVisionTransformer\"][\"VisionTransformerHead\"]\n",
    ")\n",
    "image_RGB = image_RGB.to(dtype=d_type)\n",
    "my_transformer.set_batch_size(n)\n"
   ]
  },
  {
   "cell_type": "markdown",
   "metadata": {},
   "source": [
    "### Visualize the model"
   ]
  },
  {
   "cell_type": "code",
   "execution_count": null,
   "metadata": {},
   "outputs": [],
   "source": [
    "import mnn.visualize\n",
    "output = my_transformer(image_RGB)"
   ]
  },
  {
   "cell_type": "code",
   "execution_count": null,
   "metadata": {},
   "outputs": [],
   "source": [
    "mnn.visualize.make_dot(output, params=dict(my_transformer.named_parameters())).render(\"my_transformer\", format=\"png\")"
   ]
  },
  {
   "cell_type": "code",
   "execution_count": null,
   "metadata": {},
   "outputs": [],
   "source": [
    "traced_model = inference_test(image_RGB, my_transformer)\n",
    "print(\"Number of parameters:\", count_parameters(my_transformer))"
   ]
  }
 ],
 "metadata": {
  "kernelspec": {
   "display_name": ".venv",
   "language": "python",
   "name": "python3"
  },
  "language_info": {
   "codemirror_mode": {
    "name": "ipython",
    "version": 3
   },
   "file_extension": ".py",
   "mimetype": "text/x-python",
   "name": "python",
   "nbconvert_exporter": "python",
   "pygments_lexer": "ipython3",
   "version": "3.11.7"
  }
 },
 "nbformat": 4,
 "nbformat_minor": 2
}
