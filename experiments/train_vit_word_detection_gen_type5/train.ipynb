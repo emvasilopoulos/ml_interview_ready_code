{
 "cells": [
  {
   "cell_type": "code",
   "execution_count": 1,
   "metadata": {},
   "outputs": [],
   "source": [
    "import yaml\n",
    "import pathlib\n",
    "import time\n",
    "\n",
    "import torch\n",
    "import torch.nn\n",
    "\n",
    "import mnn.vision.models.vision_transformer.encoder.config as mnn_config\n",
    "import mnn.vision.image_size\n",
    "from mnn.vision.models.vision_transformer.vision_transformer import (\n",
    "    MyVisionTransformer\n",
    ")\n",
    "\n"
   ]
  },
  {
   "cell_type": "markdown",
   "metadata": {},
   "source": [
    "## UTILITIES"
   ]
  },
  {
   "cell_type": "code",
   "execution_count": null,
   "metadata": {},
   "outputs": [],
   "source": [
    "def inference_test(image: torch.Tensor, model: torch.nn.Module):\n",
    "    t0 = time.time()\n",
    "    output = model(image)\n",
    "    t1 = time.time()\n",
    "    print(\"Time taken:\", t1 - t0, \"seconds\")\n",
    "    print(\"Model's output shape:\", output.shape)\n",
    "\n",
    "def count_parameters(model):\n",
    "    return sum(p.numel() for p in model.parameters() if p.requires_grad)\n",
    "\n",
    "def read_yaml_file(file_path: pathlib.Path) -> dict:\n",
    "    with file_path.open(mode=\"r\") as f:\n",
    "        return yaml.load(f)"
   ]
  },
  {
   "cell_type": "markdown",
   "metadata": {},
   "source": [
    "## CHOOSE EXPERIMENT"
   ]
  },
  {
   "cell_type": "code",
   "execution_count": 1,
   "metadata": {},
   "outputs": [],
   "source": [
    "experiment_number = int(input(\"Choose experiment Number and press Enter:\"))\n",
    "experiment_name = f\"experiment{experiment_number}\""
   ]
  },
  {
   "cell_type": "markdown",
   "metadata": {},
   "source": [
    "## INITIALIZATION"
   ]
  },
  {
   "cell_type": "code",
   "execution_count": 2,
   "metadata": {},
   "outputs": [],
   "source": [
    "\"\"\" CONFIGURATION \"\"\"\n",
    "n = 1\n",
    "\n",
    "model_config_as_dict = read_yaml_file(pathlib.Path(experiment_name) / \"model.yaml\")\n",
    "model_config = mnn_config.VisionTransformerEncoderConfiguration.from_dict(model_config_as_dict)\n",
    "hyperparameters_config_as_dict = read_yaml_file(pathlib.Path(experiment_name) / \"hyperparameters.yaml\")\n",
    "\n",
    "\"\"\" MODEL \"\"\"\n",
    "\n",
    "feed_forward_dimensions = 512\n",
    "\n",
    "image_size = mnn.vision.image_size.ImageSize(height=1024, width=1024, channels=1)\n",
    "# image to pytorch tensor\n",
    "sequence_length = image_size.height\n",
    "embedding_size = image_size.width\n",
    "hidden_dim = embedding_size\n",
    "number_of_layers = 1\n",
    "image = torch.rand(n, sequence_length, image_size.width) * 255\n",
    "image_RGB = torch.rand(n, 3, sequence_length, image_size.width) * 255\n",
    "\n",
    "encoder_config = mnn_config.VisionTransformerEncoderConfiguration(\n",
    "    use_cnn=False, d_model=hidden_dim, number_of_layers=number_of_layers, feed_forward_dimensions=feed_forward_dimensions\n",
    ")"
   ]
  },
  {
   "cell_type": "code",
   "execution_count": 3,
   "metadata": {},
   "outputs": [],
   "source": [
    "my_transformer = MyVisionTransformer(encoder_config, image_size, n_high_level_layers=5, is_input_normalized=False)\n",
    "my_transformer.set_batch_size(n)"
   ]
  },
  {
   "cell_type": "code",
   "execution_count": 4,
   "metadata": {},
   "outputs": [
    {
     "name": "stdout",
     "output_type": "stream",
     "text": [
      "Time taken: 4.706727027893066 seconds\n",
      "Model's output shape: torch.Size([1, 3, 1280, 1280])\n"
     ]
    }
   ],
   "source": [
    "inference_test(image_RGB, my_transformer)\n",
    "print(\"Number of parameters:\", count_parameters(my_transformer))"
   ]
  }
 ],
 "metadata": {
  "kernelspec": {
   "display_name": ".venv",
   "language": "python",
   "name": "python3"
  },
  "language_info": {
   "codemirror_mode": {
    "name": "ipython",
    "version": 3
   },
   "file_extension": ".py",
   "mimetype": "text/x-python",
   "name": "python",
   "nbconvert_exporter": "python",
   "pygments_lexer": "ipython3",
   "version": "3.11.7"
  }
 },
 "nbformat": 4,
 "nbformat_minor": 2
}
