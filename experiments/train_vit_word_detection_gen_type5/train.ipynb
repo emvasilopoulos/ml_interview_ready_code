{
 "cells": [
  {
   "cell_type": "code",
   "execution_count": 1,
   "metadata": {},
   "outputs": [],
   "source": [
    "import yaml\n",
    "import pathlib\n",
    "import time\n",
    "\n",
    "import torch\n",
    "import torch.nn\n",
    "\n",
    "import mnn.vision.models.vision_transformer.encoder.config as mnn_encoder_config\n",
    "import mnn.vision.config as mnn_config\n",
    "from mnn.vision.models.vision_transformer.e2e import (\n",
    "    MyVisionTransformer\n",
    ")"
   ]
  },
  {
   "cell_type": "markdown",
   "metadata": {},
   "source": [
    "## UTILITIES"
   ]
  },
  {
   "cell_type": "code",
   "execution_count": 2,
   "metadata": {},
   "outputs": [],
   "source": [
    "def inference_test(image: torch.Tensor, model: torch.nn.Module):\n",
    "    t0 = time.time()\n",
    "    output = model(image)\n",
    "    t1 = time.time()\n",
    "    print(\"Time taken:\", t1 - t0, \"seconds\")\n",
    "    print(\"Model's output shape:\", output.shape)\n",
    "\n",
    "def count_parameters(model):\n",
    "    return sum(p.numel() for p in model.parameters() if p.requires_grad)\n",
    "\n",
    "def read_yaml_file(file_path: pathlib.Path) -> dict:\n",
    "    with file_path.open(mode=\"r\") as f:\n",
    "        # Python 3.11 need Loader\n",
    "        return yaml.load(f, Loader=yaml.FullLoader)"
   ]
  },
  {
   "cell_type": "markdown",
   "metadata": {},
   "source": [
    "## CHOOSE EXPERIMENT"
   ]
  },
  {
   "cell_type": "code",
   "execution_count": 3,
   "metadata": {},
   "outputs": [],
   "source": [
    "experiment_number = int(input(\"Choose experiment Number and press Enter:\"))\n",
    "experiment_name = f\"experiment{experiment_number}\""
   ]
  },
  {
   "cell_type": "markdown",
   "metadata": {},
   "source": [
    "## INITIALIZATION"
   ]
  },
  {
   "cell_type": "code",
   "execution_count": 4,
   "metadata": {},
   "outputs": [],
   "source": [
    "\"\"\" CONFIGURATION \"\"\"\n",
    "n = 1\n",
    "\n",
    "model_config_as_dict = read_yaml_file(pathlib.Path(experiment_name) / \"model.yaml\")\n",
    "model_config = mnn_encoder_config.MyVisionTransformerConfiguration.from_dict(\n",
    "    model_config_as_dict[\"MyVisionTransformerConfiguration\"]\n",
    ")\n",
    "encoder_config = model_config.encoder_config\n",
    "\n",
    "hyperparameters_config_as_dict = read_yaml_file(pathlib.Path(experiment_name) / \"hyperparameters.yaml\")\n",
    "hyperparameters_config = mnn_config.HyperparametersConfiguration.from_dict(hyperparameters_config_as_dict)\n",
    "\"\"\" MODEL \"\"\"\n",
    "\n",
    "image_size = hyperparameters_config.image_size\n",
    "# image to pytorch tensor\n",
    "sequence_length = image_size.height\n",
    "embedding_size = image_size.width\n",
    "hidden_dim = embedding_size\n",
    "image_RGB = torch.rand(n, 3, sequence_length, image_size.width) * 255"
   ]
  },
  {
   "cell_type": "code",
   "execution_count": 5,
   "metadata": {},
   "outputs": [],
   "source": [
    "my_transformer = MyVisionTransformer(encoder_config, image_size, n_high_level_layers=model_config.n_high_level_layers, is_input_normalized=True)\n",
    "my_transformer.set_batch_size(n)"
   ]
  },
  {
   "cell_type": "code",
   "execution_count": 6,
   "metadata": {},
   "outputs": [
    {
     "name": "stdout",
     "output_type": "stream",
     "text": [
      "Time taken: 0.5752787590026855 seconds\n",
      "Model's output shape: torch.Size([1, 3, 1024, 1024])\n",
      "Number of parameters: 56696832\n"
     ]
    }
   ],
   "source": [
    "inference_test(image_RGB, my_transformer)\n",
    "print(\"Number of parameters:\", count_parameters(my_transformer))"
   ]
  },
  {
   "cell_type": "code",
   "execution_count": 7,
   "metadata": {},
   "outputs": [
    {
     "name": "stdout",
     "output_type": "stream",
     "text": [
      "MyVisionTransformer(\n",
      "  (positional_encoder): MyVisionPositionalEncoding()\n",
      "  (encoder_combinator_list): Sequential(\n",
      "    (0): EncoderCombinator(\n",
      "      (encoder): RawVisionTransformerEncoderRGB(\n",
      "        (encoder_rgb): ModuleList(\n",
      "          (0-2): 3 x RawVisionTransformerEncoder(\n",
      "            (encoder_block): TransformerEncoderBlock(\n",
      "              (block): Sequential(\n",
      "                (0): TransformerEncoder(\n",
      "                  (layers): ModuleList(\n",
      "                    (0): TransformerEncoderLayer(\n",
      "                      (self_attn): MultiheadAttention(\n",
      "                        (out_proj): NonDynamicallyQuantizableLinear(in_features=1024, out_features=1024, bias=True)\n",
      "                      )\n",
      "                      (linear1): Linear(in_features=1024, out_features=1024, bias=True)\n",
      "                      (dropout): Dropout(p=0.1, inplace=False)\n",
      "                      (linear2): Linear(in_features=1024, out_features=1024, bias=True)\n",
      "                      (norm1): LayerNorm((1024,), eps=1e-05, elementwise_affine=True)\n",
      "                      (norm2): LayerNorm((1024,), eps=1e-05, elementwise_affine=True)\n",
      "                      (dropout1): Dropout(p=0.1, inplace=False)\n",
      "                      (dropout2): Dropout(p=0.1, inplace=False)\n",
      "                    )\n",
      "                  )\n",
      "                  (norm): LayerNorm((1024,), eps=1e-05, elementwise_affine=True)\n",
      "                )\n",
      "              )\n",
      "            )\n",
      "          )\n",
      "        )\n",
      "      )\n",
      "      (combinator): ThreeChannelsCombinatorToThreeChannels(\n",
      "        (to_three_channels): ModuleList(\n",
      "          (0-2): 3 x ThreeChannelsCombinator()\n",
      "        )\n",
      "      )\n",
      "    )\n",
      "    (1): EncoderCombinator(\n",
      "      (encoder): RawVisionTransformerEncoderRGB(\n",
      "        (encoder_rgb): ModuleList(\n",
      "          (0-2): 3 x RawVisionTransformerEncoder(\n",
      "            (encoder_block): TransformerEncoderBlock(\n",
      "              (block): Sequential(\n",
      "                (0): TransformerEncoder(\n",
      "                  (layers): ModuleList(\n",
      "                    (0): TransformerEncoderLayer(\n",
      "                      (self_attn): MultiheadAttention(\n",
      "                        (out_proj): NonDynamicallyQuantizableLinear(in_features=1024, out_features=1024, bias=True)\n",
      "                      )\n",
      "                      (linear1): Linear(in_features=1024, out_features=1024, bias=True)\n",
      "                      (dropout): Dropout(p=0.1, inplace=False)\n",
      "                      (linear2): Linear(in_features=1024, out_features=1024, bias=True)\n",
      "                      (norm1): LayerNorm((1024,), eps=1e-05, elementwise_affine=True)\n",
      "                      (norm2): LayerNorm((1024,), eps=1e-05, elementwise_affine=True)\n",
      "                      (dropout1): Dropout(p=0.1, inplace=False)\n",
      "                      (dropout2): Dropout(p=0.1, inplace=False)\n",
      "                    )\n",
      "                  )\n",
      "                  (norm): LayerNorm((1024,), eps=1e-05, elementwise_affine=True)\n",
      "                )\n",
      "              )\n",
      "            )\n",
      "          )\n",
      "        )\n",
      "      )\n",
      "      (combinator): ThreeChannelsCombinatorToThreeChannels(\n",
      "        (to_three_channels): ModuleList(\n",
      "          (0-2): 3 x ThreeChannelsCombinator()\n",
      "        )\n",
      "      )\n",
      "    )\n",
      "  )\n",
      "  (sigmoid): Sigmoid()\n",
      ")\n"
     ]
    }
   ],
   "source": [
    "print(my_transformer)"
   ]
  }
 ],
 "metadata": {
  "kernelspec": {
   "display_name": ".venv",
   "language": "python",
   "name": "python3"
  },
  "language_info": {
   "codemirror_mode": {
    "name": "ipython",
    "version": 3
   },
   "file_extension": ".py",
   "mimetype": "text/x-python",
   "name": "python",
   "nbconvert_exporter": "python",
   "pygments_lexer": "ipython3",
   "version": "3.11.7"
  }
 },
 "nbformat": 4,
 "nbformat_minor": 2
}
