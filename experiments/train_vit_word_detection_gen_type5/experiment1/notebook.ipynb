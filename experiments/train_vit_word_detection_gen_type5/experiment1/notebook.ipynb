{
 "cells": [
  {
   "cell_type": "code",
   "execution_count": 1,
   "metadata": {},
   "outputs": [],
   "source": [
    "import time\n",
    "import torch\n",
    "import torch.nn\n",
    "import mnn.vision.models.vision_transformer.encoder.config as mnn_config\n",
    "import mnn.vision.image_size\n",
    "from mnn.vision.models.vision_transformer.vit_encoder import (\n",
    "    RawVisionTransformerEncoder,\n",
    "    RawVisionTransformerEncoderRGB,\n",
    "    ThreeChannelsCombinatorToThreeChannels\n",
    ")\n",
    "\n",
    "def inference_test(image: torch.Tensor, model: torch.nn.Module):\n",
    "    t0 = time.time()\n",
    "    output = model(image)\n",
    "    t1 = time.time()\n",
    "    print(\"Time taken:\", t1 - t0, \"seconds\")\n",
    "    print(output.shape)\n",
    "\n",
    "def count_parameters(model):\n",
    "    return sum(p.numel() for p in model.parameters() if p.requires_grad)"
   ]
  },
  {
   "cell_type": "code",
   "execution_count": 3,
   "metadata": {},
   "outputs": [],
   "source": [
    "\"\"\" CONFIGURATION \"\"\"\n",
    "n = 1\n",
    "feed_forward_dimensions = 1024\n",
    "\n",
    "image_size = mnn.vision.image_size.ImageSize(height=1280, width=1280, channels=1)\n",
    "# image to pytorch tensor\n",
    "sequence_length = image_size.height\n",
    "embedding_size = image_size.width\n",
    "hidden_dim = embedding_size\n",
    "number_of_layers = 1\n",
    "image = torch.rand(n, sequence_length, image_size.width) * 255\n",
    "\n",
    "encoder_config = mnn_config.VisionTransformerEncoderConfiguration(\n",
    "    use_cnn=False, d_model=hidden_dim, number_of_layers=number_of_layers, feed_forward_dimensions=feed_forward_dimensions\n",
    ")"
   ]
  },
  {
   "cell_type": "code",
   "execution_count": null,
   "metadata": {},
   "outputs": [],
   "source": [
    "my_encoder = RawVisionTransformerEncoder(encoder_config, image_size, is_input_normalized=False)\n",
    "my_encoder_rgb = RawVisionTransformerEncoderRGB(encoder_config, image_size, is_input_normalized=False)"
   ]
  },
  {
   "cell_type": "code",
   "execution_count": 10,
   "metadata": {},
   "outputs": [],
   "source": [
    "class EncoderCombinator(torch.nn.Module):\n",
    "    def __init__(self, encoder: RawVisionTransformerEncoderRGB):\n",
    "        super().__init__()\n",
    "        self.encoder = encoder\n",
    "        self.combinator = ThreeChannelsCombinatorToThreeChannels(encoder)\n",
    "\n",
    "    def forward(self, x):\n",
    "        x = self.encoder(x)\n",
    "        print(\"encoder output shape:\", x.shape)\n",
    "        x = self.combinator(x)\n",
    "        print(\"combinator output shape:\", x.shape)\n",
    "\n",
    "        return x\n",
    "\n",
    "\n",
    "class MyVisionTransformer(torch.nn.Module):\n",
    "    def __init__(\n",
    "        self,\n",
    "        encoder_config,\n",
    "        image_size,\n",
    "        n_high_level_layers: int,\n",
    "        is_input_normalized: bool,\n",
    "    ):\n",
    "        super().__init__()\n",
    "\n",
    "        self.encoder_combinator_list = torch.nn.ModuleList(\n",
    "            [\n",
    "                EncoderCombinator(\n",
    "                    RawVisionTransformerEncoderRGB(\n",
    "                        encoder_config,\n",
    "                        image_size,\n",
    "                        is_input_normalized=is_input_normalized,\n",
    "                    )\n",
    "                )\n",
    "                for _ in range(n_high_level_layers)\n",
    "            ]\n",
    "        )\n",
    "        self.sigmoid = torch.nn.Sigmoid()\n",
    "\n",
    "    def forward(self, x):\n",
    "        for encoder_combinator in self.encoder_combinator_list:\n",
    "            x = encoder_combinator(x)\n",
    "            x = self.sigmoid(x)\n",
    "        return x  "
   ]
  },
  {
   "cell_type": "code",
   "execution_count": 11,
   "metadata": {},
   "outputs": [],
   "source": [
    "my_transformer = MyVisionTransformer(encoder_config, image_size, n_high_level_layers=1, is_input_normalized=False)\n"
   ]
  },
  {
   "cell_type": "code",
   "execution_count": 12,
   "metadata": {},
   "outputs": [
    {
     "name": "stdout",
     "output_type": "stream",
     "text": [
      "encoder output shape: torch.Size([1, 3, 1280, 1280])\n",
      "combinator output shape: torch.Size([3, 3, 1280, 1280])\n",
      "Time taken: 0.9028410911560059 seconds\n",
      "torch.Size([3, 3, 1280, 1280])\n"
     ]
    }
   ],
   "source": [
    "# Something is buggy\n",
    "inference_test(image, my_transformer)"
   ]
  },
  {
   "cell_type": "code",
   "execution_count": null,
   "metadata": {},
   "outputs": [],
   "source": [
    "print(count_parameters(my_encoder))\n",
    "print(count_parameters(my_encoder_rgb))"
   ]
  },
  {
   "cell_type": "code",
   "execution_count": null,
   "metadata": {},
   "outputs": [],
   "source": [
    "print(my_encoder)"
   ]
  }
 ],
 "metadata": {
  "kernelspec": {
   "display_name": ".venv",
   "language": "python",
   "name": "python3"
  },
  "language_info": {
   "codemirror_mode": {
    "name": "ipython",
    "version": 3
   },
   "file_extension": ".py",
   "mimetype": "text/x-python",
   "name": "python",
   "nbconvert_exporter": "python",
   "pygments_lexer": "ipython3",
   "version": "3.11.7"
  }
 },
 "nbformat": 4,
 "nbformat_minor": 2
}
